{
 "cells": [
  {
   "cell_type": "code",
   "execution_count": 9,
   "id": "1a61bd62",
   "metadata": {},
   "outputs": [],
   "source": [
    "import pandas as pd \n"
   ]
  },
  {
   "cell_type": "code",
   "execution_count": 10,
   "id": "3f868c9b",
   "metadata": {},
   "outputs": [
    {
     "data": {
      "text/html": [
       "<div>\n",
       "<style scoped>\n",
       "    .dataframe tbody tr th:only-of-type {\n",
       "        vertical-align: middle;\n",
       "    }\n",
       "\n",
       "    .dataframe tbody tr th {\n",
       "        vertical-align: top;\n",
       "    }\n",
       "\n",
       "    .dataframe thead th {\n",
       "        text-align: right;\n",
       "    }\n",
       "</style>\n",
       "<table border=\"1\" class=\"dataframe\">\n",
       "  <thead>\n",
       "    <tr style=\"text-align: right;\">\n",
       "      <th></th>\n",
       "      <th>SEQN</th>\n",
       "      <th>LBXGLU</th>\n",
       "      <th>LBXIN</th>\n",
       "      <th>LBXSBU</th>\n",
       "      <th>LBXSCR</th>\n",
       "      <th>URDACT</th>\n",
       "      <th>URXUMA</th>\n",
       "      <th>URXUCR</th>\n",
       "      <th>SMQ020</th>\n",
       "      <th>SMQ040</th>\n",
       "      <th>...</th>\n",
       "      <th>ALQ121</th>\n",
       "      <th>ALQ130</th>\n",
       "      <th>RIAGENDR</th>\n",
       "      <th>RIDAGEYR</th>\n",
       "      <th>DMDEDUC2</th>\n",
       "      <th>INDFMPIR</th>\n",
       "      <th>DIQ010</th>\n",
       "      <th>DID040</th>\n",
       "      <th>DIQ050</th>\n",
       "      <th>DIQ070</th>\n",
       "    </tr>\n",
       "  </thead>\n",
       "  <tbody>\n",
       "    <tr>\n",
       "      <th>0</th>\n",
       "      <td>109271.0</td>\n",
       "      <td>103.0</td>\n",
       "      <td>16.96</td>\n",
       "      <td>8.0</td>\n",
       "      <td>0.78</td>\n",
       "      <td>7.50</td>\n",
       "      <td>2.4</td>\n",
       "      <td>32.0</td>\n",
       "      <td>1.0</td>\n",
       "      <td>1.0</td>\n",
       "      <td>...</td>\n",
       "      <td>0.0</td>\n",
       "      <td>NaN</td>\n",
       "      <td>1.0</td>\n",
       "      <td>49.0</td>\n",
       "      <td>2.0</td>\n",
       "      <td>NaN</td>\n",
       "      <td>2.0</td>\n",
       "      <td>NaN</td>\n",
       "      <td>NaN</td>\n",
       "      <td>NaN</td>\n",
       "    </tr>\n",
       "    <tr>\n",
       "      <th>1</th>\n",
       "      <td>109274.0</td>\n",
       "      <td>154.0</td>\n",
       "      <td>13.52</td>\n",
       "      <td>11.0</td>\n",
       "      <td>0.74</td>\n",
       "      <td>10.67</td>\n",
       "      <td>12.8</td>\n",
       "      <td>120.0</td>\n",
       "      <td>2.0</td>\n",
       "      <td>NaN</td>\n",
       "      <td>...</td>\n",
       "      <td>4.0</td>\n",
       "      <td>2.0</td>\n",
       "      <td>1.0</td>\n",
       "      <td>68.0</td>\n",
       "      <td>4.0</td>\n",
       "      <td>1.20</td>\n",
       "      <td>1.0</td>\n",
       "      <td>54.0</td>\n",
       "      <td>1.0</td>\n",
       "      <td>1.0</td>\n",
       "    </tr>\n",
       "    <tr>\n",
       "      <th>2</th>\n",
       "      <td>109282.0</td>\n",
       "      <td>95.0</td>\n",
       "      <td>7.49</td>\n",
       "      <td>18.0</td>\n",
       "      <td>0.88</td>\n",
       "      <td>8.33</td>\n",
       "      <td>16.0</td>\n",
       "      <td>192.0</td>\n",
       "      <td>1.0</td>\n",
       "      <td>3.0</td>\n",
       "      <td>...</td>\n",
       "      <td>0.0</td>\n",
       "      <td>NaN</td>\n",
       "      <td>1.0</td>\n",
       "      <td>76.0</td>\n",
       "      <td>5.0</td>\n",
       "      <td>3.61</td>\n",
       "      <td>2.0</td>\n",
       "      <td>NaN</td>\n",
       "      <td>NaN</td>\n",
       "      <td>NaN</td>\n",
       "    </tr>\n",
       "    <tr>\n",
       "      <th>3</th>\n",
       "      <td>109286.0</td>\n",
       "      <td>92.0</td>\n",
       "      <td>16.46</td>\n",
       "      <td>9.0</td>\n",
       "      <td>0.55</td>\n",
       "      <td>9.19</td>\n",
       "      <td>6.8</td>\n",
       "      <td>74.0</td>\n",
       "      <td>2.0</td>\n",
       "      <td>NaN</td>\n",
       "      <td>...</td>\n",
       "      <td>NaN</td>\n",
       "      <td>NaN</td>\n",
       "      <td>2.0</td>\n",
       "      <td>33.0</td>\n",
       "      <td>5.0</td>\n",
       "      <td>1.36</td>\n",
       "      <td>2.0</td>\n",
       "      <td>NaN</td>\n",
       "      <td>NaN</td>\n",
       "      <td>2.0</td>\n",
       "    </tr>\n",
       "    <tr>\n",
       "      <th>4</th>\n",
       "      <td>109290.0</td>\n",
       "      <td>106.0</td>\n",
       "      <td>20.25</td>\n",
       "      <td>18.0</td>\n",
       "      <td>0.69</td>\n",
       "      <td>8.24</td>\n",
       "      <td>22.4</td>\n",
       "      <td>272.0</td>\n",
       "      <td>2.0</td>\n",
       "      <td>NaN</td>\n",
       "      <td>...</td>\n",
       "      <td>0.0</td>\n",
       "      <td>NaN</td>\n",
       "      <td>2.0</td>\n",
       "      <td>68.0</td>\n",
       "      <td>5.0</td>\n",
       "      <td>5.00</td>\n",
       "      <td>1.0</td>\n",
       "      <td>60.0</td>\n",
       "      <td>2.0</td>\n",
       "      <td>1.0</td>\n",
       "    </tr>\n",
       "  </tbody>\n",
       "</table>\n",
       "<p>5 rows × 21 columns</p>\n",
       "</div>"
      ],
      "text/plain": [
       "       SEQN  LBXGLU  LBXIN  LBXSBU  LBXSCR  URDACT  URXUMA  URXUCR  SMQ020  \\\n",
       "0  109271.0   103.0  16.96     8.0    0.78    7.50     2.4    32.0     1.0   \n",
       "1  109274.0   154.0  13.52    11.0    0.74   10.67    12.8   120.0     2.0   \n",
       "2  109282.0    95.0   7.49    18.0    0.88    8.33    16.0   192.0     1.0   \n",
       "3  109286.0    92.0  16.46     9.0    0.55    9.19     6.8    74.0     2.0   \n",
       "4  109290.0   106.0  20.25    18.0    0.69    8.24    22.4   272.0     2.0   \n",
       "\n",
       "   SMQ040  ...  ALQ121  ALQ130  RIAGENDR  RIDAGEYR  DMDEDUC2  INDFMPIR  \\\n",
       "0     1.0  ...     0.0     NaN       1.0      49.0       2.0       NaN   \n",
       "1     NaN  ...     4.0     2.0       1.0      68.0       4.0      1.20   \n",
       "2     3.0  ...     0.0     NaN       1.0      76.0       5.0      3.61   \n",
       "3     NaN  ...     NaN     NaN       2.0      33.0       5.0      1.36   \n",
       "4     NaN  ...     0.0     NaN       2.0      68.0       5.0      5.00   \n",
       "\n",
       "   DIQ010  DID040  DIQ050  DIQ070  \n",
       "0     2.0     NaN     NaN     NaN  \n",
       "1     1.0    54.0     1.0     1.0  \n",
       "2     2.0     NaN     NaN     NaN  \n",
       "3     2.0     NaN     NaN     2.0  \n",
       "4     1.0    60.0     2.0     1.0  \n",
       "\n",
       "[5 rows x 21 columns]"
      ]
     },
     "execution_count": 10,
     "metadata": {},
     "output_type": "execute_result"
    }
   ],
   "source": [
    "data = pd.read_csv(\"C:\\\\Users\\\\kuppa\\\\Downloads\\\\merged_nhanes_2007_2008.csv\")\n",
    "data.head()"
   ]
  },
  {
   "cell_type": "code",
   "execution_count": 11,
   "id": "89fadcbd",
   "metadata": {},
   "outputs": [
    {
     "data": {
      "text/plain": [
       "Index(['SEQN', 'LBXGLU', 'LBXIN', 'LBXSBU', 'LBXSCR', 'URDACT', 'URXUMA',\n",
       "       'URXUCR', 'SMQ020', 'SMQ040', 'ALQ111', 'ALQ121', 'ALQ130', 'RIAGENDR',\n",
       "       'RIDAGEYR', 'DMDEDUC2', 'INDFMPIR', 'DIQ010', 'DID040', 'DIQ050',\n",
       "       'DIQ070'],\n",
       "      dtype='object')"
      ]
     },
     "execution_count": 11,
     "metadata": {},
     "output_type": "execute_result"
    }
   ],
   "source": [
    "data.columns"
   ]
  },
  {
   "cell_type": "code",
   "execution_count": 12,
   "id": "d30ca147",
   "metadata": {},
   "outputs": [
    {
     "data": {
      "text/plain": [
       "SEQN           0\n",
       "LBXGLU       265\n",
       "LBXIN        359\n",
       "LBXSBU       346\n",
       "LBXSCR       344\n",
       "URDACT        99\n",
       "URXUMA        99\n",
       "URXUCR        99\n",
       "SMQ020         0\n",
       "SMQ040      2610\n",
       "ALQ111       273\n",
       "ALQ121       679\n",
       "ALQ130      1532\n",
       "RIAGENDR       0\n",
       "RIDAGEYR       0\n",
       "DMDEDUC2     186\n",
       "INDFMPIR     630\n",
       "DIQ010         0\n",
       "DID040      3746\n",
       "DIQ050      3745\n",
       "DIQ070      3175\n",
       "dtype: int64"
      ]
     },
     "execution_count": 12,
     "metadata": {},
     "output_type": "execute_result"
    }
   ],
   "source": [
    "data.isna().sum()"
   ]
  },
  {
   "cell_type": "code",
   "execution_count": 16,
   "id": "9709544a",
   "metadata": {},
   "outputs": [
    {
     "data": {
      "text/plain": [
       "(4438, 21)"
      ]
     },
     "execution_count": 16,
     "metadata": {},
     "output_type": "execute_result"
    }
   ],
   "source": [
    "data.shape"
   ]
  },
  {
   "cell_type": "code",
   "execution_count": null,
   "id": "4c305379",
   "metadata": {},
   "outputs": [],
   "source": []
  }
 ],
 "metadata": {
  "kernelspec": {
   "display_name": "base",
   "language": "python",
   "name": "python3"
  },
  "language_info": {
   "codemirror_mode": {
    "name": "ipython",
    "version": 3
   },
   "file_extension": ".py",
   "mimetype": "text/x-python",
   "name": "python",
   "nbconvert_exporter": "python",
   "pygments_lexer": "ipython3",
   "version": "3.11.3"
  }
 },
 "nbformat": 4,
 "nbformat_minor": 5
}
